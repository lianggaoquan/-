{
  "nbformat": 4,
  "nbformat_minor": 0,
  "metadata": {
    "colab": {
      "name": "机器翻译.ipynb",
      "version": "0.3.2",
      "views": {},
      "default_view": {},
      "provenance": []
    },
    "kernelspec": {
      "name": "python3",
      "display_name": "Python 3"
    },
    "accelerator": "GPU"
  },
  "cells": [
    {
      "metadata": {
        "id": "hYFFlHJAtlIs",
        "colab_type": "code",
        "colab": {
          "autoexec": {
            "startup": false,
            "wait_interval": 0
          }
        }
      },
      "cell_type": "code",
      "source": [
        "# from google.colab import files\n",
        "# files.upload()"
      ],
      "execution_count": 0,
      "outputs": []
    },
    {
      "metadata": {
        "id": "98HJjOg3tvCy",
        "colab_type": "code",
        "colab": {
          "autoexec": {
            "startup": false,
            "wait_interval": 0
          }
        }
      },
      "cell_type": "code",
      "source": [
        "batch_size = 64  # Batch size for training.\n",
        "epochs = 30  # Number of epochs to train for.\n",
        "latent_dim = 256  # Latent dimensionality of the encoding space.\n",
        "num_samples = 10000  # Number of samples to train on.\n",
        "# Path to the data txt file on disk.\n",
        "data_path = 'fra.txt'"
      ],
      "execution_count": 0,
      "outputs": []
    },
    {
      "metadata": {
        "id": "BmFpouYuuSnt",
        "colab_type": "code",
        "colab": {
          "autoexec": {
            "startup": false,
            "wait_interval": 0
          }
        }
      },
      "cell_type": "code",
      "source": [
        "input_texts = []\n",
        "target_texts = []\n",
        "input_characters = set()\n",
        "target_characters = set()\n",
        "lines = open(data_path,encoding='utf-8').read().split('\\n')"
      ],
      "execution_count": 0,
      "outputs": []
    },
    {
      "metadata": {
        "id": "rUy98IqEuwp1",
        "colab_type": "code",
        "colab": {
          "autoexec": {
            "startup": false,
            "wait_interval": 0
          }
        }
      },
      "cell_type": "code",
      "source": [
        "for line in lines[:min(num_samples,len(lines)-1)]:\n",
        "  input_text,target_text = line.split('\\t')\n",
        "  target_text = '\\t' + target_text + '\\n'\n",
        "  input_texts.append(input_text)\n",
        "  target_texts.append(target_text)\n",
        "  \n",
        "  for char in input_text:\n",
        "    if char not in input_characters:\n",
        "      input_characters.add(char)\n",
        "     \n",
        "  for char in target_text:\n",
        "    if char not in target_characters:\n",
        "      target_characters.add(char)\n",
        "  \n",
        "input_characters = sorted(list(input_characters))\n",
        "target_characters = sorted(list(target_characters))\n",
        "num_encoder_tokens = len(input_characters)\n",
        "num_decoder_tokens = len(target_characters)\n",
        "max_encoder_seq_length = max([len(txt) for txt in input_texts])\n",
        "max_decoder_seq_length = max([len(txt) for txt in target_texts])"
      ],
      "execution_count": 0,
      "outputs": []
    },
    {
      "metadata": {
        "id": "CBQD6_5qxWyJ",
        "colab_type": "code",
        "colab": {
          "autoexec": {
            "startup": false,
            "wait_interval": 0
          },
          "base_uri": "https://localhost:8080/",
          "height": 35
        },
        "outputId": "53d0eecf-9497-4174-f2c5-e03846d7a64e",
        "executionInfo": {
          "status": "ok",
          "timestamp": 1532611682099,
          "user_tz": -480,
          "elapsed": 812,
          "user": {
            "displayName": "gaoquan liang",
            "photoUrl": "//lh6.googleusercontent.com/-ROYP8rvJcDc/AAAAAAAAAAI/AAAAAAAAAA4/tIbvgT-6FfM/s50-c-k-no/photo.jpg",
            "userId": "112421655922766247726"
          }
        }
      },
      "cell_type": "code",
      "source": [
        "len(input_characters)"
      ],
      "execution_count": 0,
      "outputs": [
        {
          "output_type": "execute_result",
          "data": {
            "text/plain": [
              "71"
            ]
          },
          "metadata": {
            "tags": []
          },
          "execution_count": 7
        }
      ]
    },
    {
      "metadata": {
        "id": "FPIZy6srxelg",
        "colab_type": "code",
        "colab": {
          "autoexec": {
            "startup": false,
            "wait_interval": 0
          }
        }
      },
      "cell_type": "code",
      "source": [
        "input_token_index = dict([(char,i) for i,char in enumerate(input_characters)])\n",
        "target_token_index = dict([(char,i) for i,char in enumerate(target_characters)])"
      ],
      "execution_count": 0,
      "outputs": []
    },
    {
      "metadata": {
        "id": "zWP5ekz_yIt_",
        "colab_type": "code",
        "colab": {
          "autoexec": {
            "startup": false,
            "wait_interval": 0
          },
          "base_uri": "https://localhost:8080/",
          "height": 35
        },
        "outputId": "7f51b77b-8210-4694-bbb6-61106d87e24e",
        "executionInfo": {
          "status": "ok",
          "timestamp": 1532611919357,
          "user_tz": -480,
          "elapsed": 8247,
          "user": {
            "displayName": "gaoquan liang",
            "photoUrl": "//lh6.googleusercontent.com/-ROYP8rvJcDc/AAAAAAAAAAI/AAAAAAAAAA4/tIbvgT-6FfM/s50-c-k-no/photo.jpg",
            "userId": "112421655922766247726"
          }
        }
      },
      "cell_type": "code",
      "source": [
        "import numpy as np\n",
        "import keras\n",
        "from keras.layers import LSTM"
      ],
      "execution_count": 0,
      "outputs": [
        {
          "output_type": "stream",
          "text": [
            "Using TensorFlow backend.\n"
          ],
          "name": "stderr"
        }
      ]
    },
    {
      "metadata": {
        "id": "wC77G0aFyd1p",
        "colab_type": "code",
        "colab": {
          "autoexec": {
            "startup": false,
            "wait_interval": 0
          }
        }
      },
      "cell_type": "code",
      "source": [
        "encoder_input_data = np.zeros(\n",
        "                            (len(input_texts),max_encoder_seq_length,num_encoder_tokens),\n",
        "                            dtype='float32')\n",
        "\n",
        "decoder_input_data = np.zeros(\n",
        "                            (len(target_texts),max_decoder_seq_length,num_decoder_tokens),\n",
        "                            dtype='float32')\n",
        "\n",
        "decoder_target_data = np.zeros(\n",
        "                            (len(target_texts),max_decoder_seq_length,num_decoder_tokens),\n",
        "                            dtype='float32')"
      ],
      "execution_count": 0,
      "outputs": []
    },
    {
      "metadata": {
        "id": "3IAT_8u2z0eq",
        "colab_type": "code",
        "colab": {
          "autoexec": {
            "startup": false,
            "wait_interval": 0
          }
        }
      },
      "cell_type": "code",
      "source": [
        "for i,(input_text,target_text) in enumerate(zip(input_texts,target_texts)):\n",
        "  for t,char in enumerate(input_text):\n",
        "    encoder_input_data[i,t,input_token_index[char]] = 1\n",
        "  \n",
        "  for t,char in enumerate(target_text):\n",
        "    decoder_input_data[i,t,target_token_index[char]] = 1\n",
        "    if t > 0:\n",
        "      decoder_target_data[i,t-1,target_token_index[char]] = 1\n",
        "      "
      ],
      "execution_count": 0,
      "outputs": []
    },
    {
      "metadata": {
        "id": "cWnhirer1urZ",
        "colab_type": "code",
        "colab": {
          "autoexec": {
            "startup": false,
            "wait_interval": 0
          }
        }
      },
      "cell_type": "code",
      "source": [
        "from keras.layers import Input\n",
        "from keras.layers import Dense"
      ],
      "execution_count": 0,
      "outputs": []
    },
    {
      "metadata": {
        "id": "eokT40I20024",
        "colab_type": "code",
        "colab": {
          "autoexec": {
            "startup": false,
            "wait_interval": 0
          }
        }
      },
      "cell_type": "code",
      "source": [
        "encoder_inputs = Input(shape=(None,num_encoder_tokens))\n",
        "encoder = LSTM(latent_dim,return_state=True)\n",
        "encoder_outputs, state_h, state_c = encoder(encoder_inputs)\n",
        "encoder_state = [state_h, state_c]"
      ],
      "execution_count": 0,
      "outputs": []
    },
    {
      "metadata": {
        "id": "7IsFugMe2aph",
        "colab_type": "code",
        "colab": {
          "autoexec": {
            "startup": false,
            "wait_interval": 0
          }
        }
      },
      "cell_type": "code",
      "source": [
        "decoder_inputs = Input(shape=(None,num_decoder_tokens))\n",
        "decoder_lstm = LSTM(latent_dim,return_sequences=True,return_state=True)\n",
        "decoder_outputs, _ , _ = decoder_lstm(decoder_inputs,initial_state=encoder_state)\n",
        "\n",
        "decoder_dense = Dense(num_decoder_tokens,activation='softmax')\n",
        "decoder_outputs = decoder_dense(decoder_outputs)"
      ],
      "execution_count": 0,
      "outputs": []
    },
    {
      "metadata": {
        "id": "19bkoqdp32LD",
        "colab_type": "code",
        "colab": {
          "autoexec": {
            "startup": false,
            "wait_interval": 0
          }
        }
      },
      "cell_type": "code",
      "source": [
        "from keras.models import Model"
      ],
      "execution_count": 0,
      "outputs": []
    },
    {
      "metadata": {
        "id": "O9qmP5M439KK",
        "colab_type": "code",
        "colab": {
          "autoexec": {
            "startup": false,
            "wait_interval": 0
          }
        }
      },
      "cell_type": "code",
      "source": [
        "model = Model([encoder_inputs,decoder_inputs],decoder_outputs)"
      ],
      "execution_count": 0,
      "outputs": []
    },
    {
      "metadata": {
        "id": "nNCfvLCf4NIJ",
        "colab_type": "code",
        "colab": {
          "autoexec": {
            "startup": false,
            "wait_interval": 0
          }
        }
      },
      "cell_type": "code",
      "source": [
        "model.compile(optimizer='rmsprop',loss='categorical_crossentropy')"
      ],
      "execution_count": 0,
      "outputs": []
    },
    {
      "metadata": {
        "id": "zDrVHLMX4VAf",
        "colab_type": "code",
        "colab": {
          "autoexec": {
            "startup": false,
            "wait_interval": 0
          },
          "base_uri": "https://localhost:8080/",
          "height": 1133
        },
        "outputId": "05a3154e-2204-4f5f-daf7-c07c861baf38",
        "executionInfo": {
          "status": "ok",
          "timestamp": 1532614223982,
          "user_tz": -480,
          "elapsed": 663021,
          "user": {
            "displayName": "gaoquan liang",
            "photoUrl": "//lh6.googleusercontent.com/-ROYP8rvJcDc/AAAAAAAAAAI/AAAAAAAAAA4/tIbvgT-6FfM/s50-c-k-no/photo.jpg",
            "userId": "112421655922766247726"
          }
        }
      },
      "cell_type": "code",
      "source": [
        "model.fit([encoder_input_data,decoder_input_data],decoder_target_data,batch_size=batch_size,epochs=epochs,validation_split=0.2)"
      ],
      "execution_count": 0,
      "outputs": [
        {
          "output_type": "stream",
          "text": [
            "Train on 8000 samples, validate on 2000 samples\n",
            "Epoch 1/30\n",
            "8000/8000 [==============================] - 22s 3ms/step - loss: 0.8761 - val_loss: 0.9266\n",
            "Epoch 2/30\n",
            "8000/8000 [==============================] - 22s 3ms/step - loss: 0.7036 - val_loss: 0.7752\n",
            "Epoch 3/30\n",
            "8000/8000 [==============================] - 22s 3ms/step - loss: 0.6089 - val_loss: 0.7033\n",
            "Epoch 4/30\n",
            "1984/8000 [======>.......................] - ETA: 15s - loss: 0.5757"
          ],
          "name": "stdout"
        },
        {
          "output_type": "stream",
          "text": [
            "8000/8000 [==============================] - 22s 3ms/step - loss: 0.5569 - val_loss: 0.6535\n",
            "Epoch 5/30\n",
            "8000/8000 [==============================] - 22s 3ms/step - loss: 0.5180 - val_loss: 0.6199\n",
            "Epoch 6/30\n",
            "8000/8000 [==============================] - 22s 3ms/step - loss: 0.4870 - val_loss: 0.6207\n",
            "Epoch 7/30\n",
            "6400/8000 [=======================>......] - ETA: 4s - loss: 0.4633"
          ],
          "name": "stdout"
        },
        {
          "output_type": "stream",
          "text": [
            "8000/8000 [==============================] - 22s 3ms/step - loss: 0.4621 - val_loss: 0.5796\n",
            "Epoch 8/30\n",
            "8000/8000 [==============================] - 22s 3ms/step - loss: 0.4405 - val_loss: 0.5495\n",
            "Epoch 9/30\n",
            "8000/8000 [==============================] - 22s 3ms/step - loss: 0.4209 - val_loss: 0.5344\n",
            "Epoch 10/30\n",
            "7232/8000 [==========================>...] - ETA: 1s - loss: 0.4066"
          ],
          "name": "stdout"
        },
        {
          "output_type": "stream",
          "text": [
            "8000/8000 [==============================] - 22s 3ms/step - loss: 0.4047 - val_loss: 0.5202\n",
            "Epoch 11/30\n",
            "8000/8000 [==============================] - 22s 3ms/step - loss: 0.3892 - val_loss: 0.5103\n",
            "Epoch 12/30\n",
            "8000/8000 [==============================] - 22s 3ms/step - loss: 0.3757 - val_loss: 0.4994\n",
            "Epoch 13/30\n",
            "7232/8000 [==========================>...] - ETA: 1s - loss: 0.3628"
          ],
          "name": "stdout"
        },
        {
          "output_type": "stream",
          "text": [
            "8000/8000 [==============================] - 22s 3ms/step - loss: 0.3630 - val_loss: 0.4942\n",
            "Epoch 14/30\n",
            "8000/8000 [==============================] - 22s 3ms/step - loss: 0.3508 - val_loss: 0.4882\n",
            "Epoch 15/30\n",
            "8000/8000 [==============================] - 22s 3ms/step - loss: 0.3396 - val_loss: 0.4827\n",
            "Epoch 16/30\n",
            "7232/8000 [==========================>...] - ETA: 1s - loss: 0.3295"
          ],
          "name": "stdout"
        },
        {
          "output_type": "stream",
          "text": [
            "8000/8000 [==============================] - 22s 3ms/step - loss: 0.3287 - val_loss: 0.4783\n",
            "Epoch 17/30\n",
            "8000/8000 [==============================] - 22s 3ms/step - loss: 0.3186 - val_loss: 0.4755\n",
            "Epoch 18/30\n",
            "8000/8000 [==============================] - 22s 3ms/step - loss: 0.3085 - val_loss: 0.4732\n",
            "Epoch 19/30\n",
            "7232/8000 [==========================>...] - ETA: 1s - loss: 0.2989"
          ],
          "name": "stdout"
        },
        {
          "output_type": "stream",
          "text": [
            "8000/8000 [==============================] - 22s 3ms/step - loss: 0.2989 - val_loss: 0.4759\n",
            "Epoch 20/30\n",
            "8000/8000 [==============================] - 22s 3ms/step - loss: 0.2900 - val_loss: 0.4726\n",
            "Epoch 21/30\n",
            "8000/8000 [==============================] - 22s 3ms/step - loss: 0.2814 - val_loss: 0.4672\n",
            "Epoch 22/30\n",
            "7232/8000 [==========================>...] - ETA: 1s - loss: 0.2729"
          ],
          "name": "stdout"
        },
        {
          "output_type": "stream",
          "text": [
            "8000/8000 [==============================] - 22s 3ms/step - loss: 0.2730 - val_loss: 0.4690\n",
            "Epoch 23/30\n",
            "8000/8000 [==============================] - 22s 3ms/step - loss: 0.2650 - val_loss: 0.4672\n",
            "Epoch 24/30\n",
            "8000/8000 [==============================] - 22s 3ms/step - loss: 0.2578 - val_loss: 0.4773\n",
            "Epoch 25/30\n",
            "7232/8000 [==========================>...] - ETA: 1s - loss: 0.2505"
          ],
          "name": "stdout"
        },
        {
          "output_type": "stream",
          "text": [
            "8000/8000 [==============================] - 22s 3ms/step - loss: 0.2502 - val_loss: 0.4728\n",
            "Epoch 26/30\n",
            "8000/8000 [==============================] - 22s 3ms/step - loss: 0.2433 - val_loss: 0.4778\n",
            "Epoch 27/30\n",
            "8000/8000 [==============================] - 22s 3ms/step - loss: 0.2365 - val_loss: 0.4715\n",
            "Epoch 28/30\n",
            "7232/8000 [==========================>...] - ETA: 1s - loss: 0.2295"
          ],
          "name": "stdout"
        },
        {
          "output_type": "stream",
          "text": [
            "8000/8000 [==============================] - 22s 3ms/step - loss: 0.2301 - val_loss: 0.4737\n",
            "Epoch 29/30\n",
            "8000/8000 [==============================] - 22s 3ms/step - loss: 0.2235 - val_loss: 0.4742\n",
            "Epoch 30/30\n",
            "8000/8000 [==============================] - 22s 3ms/step - loss: 0.2177 - val_loss: 0.4795\n"
          ],
          "name": "stdout"
        },
        {
          "output_type": "execute_result",
          "data": {
            "text/plain": [
              "<keras.callbacks.History at 0x7f7c9b972ac8>"
            ]
          },
          "metadata": {
            "tags": []
          },
          "execution_count": 25
        }
      ]
    },
    {
      "metadata": {
        "id": "KAd8mQ5U7rCE",
        "colab_type": "code",
        "colab": {
          "autoexec": {
            "startup": false,
            "wait_interval": 0
          }
        }
      },
      "cell_type": "code",
      "source": [
        ""
      ],
      "execution_count": 0,
      "outputs": []
    }
  ]
}